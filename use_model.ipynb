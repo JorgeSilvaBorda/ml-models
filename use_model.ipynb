{
 "cells": [
  {
   "cell_type": "code",
   "execution_count": 3,
   "metadata": {},
   "outputs": [],
   "source": [
    "#Utilizando el modelo exportado\n",
    "\n",
    "import pickle\n",
    "import numpy as np\n",
    "\n",
    "local_classifier = pickle.load(open(\"classifier.pickle\", \"rb\"))\n",
    "local_scaler = pickle.load(open(\"sc.pickle\", \"rb\"))\n",
    "\n",
    "new_pred = local_classifier.predict(local_scaler.transform(np.array([[42, 50000]])))\n",
    "new_pred_proba = local_classifier.predict_proba(local_scaler.transform(np.array([[42, 50000]])))[:, 1]"
   ]
  }
 ],
 "metadata": {
  "kernelspec": {
   "display_name": "numpy-pandas",
   "language": "python",
   "name": "python3"
  },
  "language_info": {
   "codemirror_mode": {
    "name": "ipython",
    "version": 3
   },
   "file_extension": ".py",
   "mimetype": "text/x-python",
   "name": "python",
   "nbconvert_exporter": "python",
   "pygments_lexer": "ipython3",
   "version": "3.12.4"
  }
 },
 "nbformat": 4,
 "nbformat_minor": 2
}
